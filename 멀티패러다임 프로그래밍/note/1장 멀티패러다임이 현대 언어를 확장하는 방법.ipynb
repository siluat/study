{
 "cells": [
  {
   "cell_type": "markdown",
   "id": "8d9df949",
   "metadata": {},
   "source": [
    "# 1장 멀티패러다임이 현대 언어를 확장하는 방법\n",
    "\n",
    "## 1.1 객체지향 디자인 패턴의 반복자 패턴과 일급 함수\n",
    "\n",
    "### 1.1.1 GoF의 반복자 패턴\n",
    "\n",
    "컬렉션의 내부 구조를 노출하는 대신 next() 같은 public 메서드로 내부 요소에 접근할 수 있도록 설계 -> 컬렉션의 실제 구조와 상관없이 일관된 방식으로 순회할 수 있게 한다.\n",
    "\n",
    "#### 반복자 패턴의 Iterator 인터페이스 예시\n"
   ]
  },
  {
   "cell_type": "code",
   "execution_count": null,
   "metadata": {},
   "outputs": [],
   "source": [
    "interface IteratorYieldResult<T> {\n",
    "  done?: false;\n",
    "  value: T;\n",
    "}\n",
    "\n",
    "interface IteratorReturnResult {\n",
    "  done: true;\n",
    "  value: undefined;\n",
    "}\n",
    "\n",
    "interface Iterator<T> {\n",
    "  next(): IteratorYieldResult<T> | IteratorReturnResult;\n",
    "}"
   ]
  },
  {
   "cell_type": "markdown",
   "id": "982e63e7",
   "metadata": {},
   "source": [
    "### 1.1.2 ArrayLike로부터 Iterator 생성하기\n",
    "\n",
    "#### Class 형태로 구현해보는 ArrayLike Iterator"
   ]
  },
  {
   "cell_type": "code",
   "execution_count": null,
   "id": "a9f03d3c",
   "metadata": {},
   "outputs": [
    {
     "name": "stdout",
     "output_type": "stream",
     "text": [
      "{ value: 10, done: false }\n",
      "{ value: 20, done: false }\n",
      "{ value: 30, done: false }\n",
      "{ value: undefined, done: true }\n",
      "{ value: \"a\", done: false }\n",
      "{ value: \"b\", done: false }\n",
      "{ value: \"c\", done: false }\n",
      "{ value: undefined, done: true }\n"
     ]
    },
    {
     "ename": "",
     "evalue": "",
     "output_type": "error",
     "traceback": [
      "\u001b[1;31mThe Kernel crashed while executing code in the current cell or a previous cell. \n",
      "\u001b[1;31mPlease review the code in the cell(s) to identify a possible cause of the failure. \n",
      "\u001b[1;31mClick <a href='https://aka.ms/vscodeJupyterKernelCrash'>here</a> for more info. \n",
      "\u001b[1;31mView Jupyter <a href='command:jupyter.viewOutput'>log</a> for further details."
     ]
    }
   ],
   "source": [
    "/* lib.es5.ts\n",
    "interface ArrayLike<T> {\n",
    "  readonly length: number;\n",
    "  readonly [n: number]: T;\n",
    "} \n",
    "*/\n",
    "\n",
    "class ArrayLikeIterator<T> implements Iterator<T> {\n",
    "  private index = 0;\n",
    "  constructor(private arrayLike: ArrayLike<T>) {}\n",
    "\n",
    "  next(): IteratorResult<T> {\n",
    "    if (this.index < this.arrayLike.length) {\n",
    "      return {\n",
    "        value: this.arrayLike[this.index++],\n",
    "        done: false,\n",
    "      };\n",
    "    } else {\n",
    "      return {\n",
    "        value: undefined,\n",
    "        done: true,\n",
    "      }\n",
    "    }\n",
    "  }\n",
    "}\n",
    "\n",
    "const arrayLike: ArrayLike<number> = {\n",
    "  0: 10,\n",
    "  1: 20,\n",
    "  2: 30,\n",
    "  length: 3\n",
    "};\n",
    "\n",
    "const iterator: Iterator<number> = new ArrayLikeIterator(arrayLike);\n",
    "\n",
    "console.log(iterator.next()); // { value: 10, done: false }\n",
    "console.log(iterator.next()); // { value: 20, done: false }\n",
    "console.log(iterator.next()); // { value: 30, done: false }\n",
    "console.log(iterator.next()); // { value: undefined, done: true }\n",
    "\n",
    "const array: Array<string> = [\"a\", \"b\", \"c\"];\n",
    "const iterator2: Iterator<string> = new ArrayLikeIterator(array);\n",
    "\n",
    "console.log(iterator2.next()); // { value: \"a\", done: false }\n",
    "console.log(iterator2.next()); // { value: \"b\", done: false }\n",
    "console.log(iterator2.next()); // { value: \"c\", done: false }\n",
    "console.log(iterator2.next()); // { value: undefined, done: true }"
   ]
  },
  {
   "cell_type": "markdown",
   "id": "5d5994c3",
   "metadata": {},
   "source": [
    "### 1.1.3 ArrayLike를 역순으로 순회하는 이터레이터 만들기\n",
    "\n",
    "`array.reverse()` 메서드를 사용한 후에 역순으로 순회할 수도 있지만, 성능이 중요한 경우 이터레이터를 활용하면 지연 평가를 통해 불필요한 연산과 메모리 사용량을 줄이면서 역순으로 순회할 수 있다.\n",
    "\n",
    "#### 이터레이터의 지연성을 이용한 reverse 함수 만들기"
   ]
  },
  {
   "cell_type": "code",
   "execution_count": 2,
   "id": "cbbf344f",
   "metadata": {},
   "outputs": [
    {
     "name": "stdout",
     "output_type": "stream",
     "text": [
      "[ \"A\", \"B\" ]\n",
      "B A\n"
     ]
    }
   ],
   "source": [
    "function reverse<T>(arrayLike: ArrayLike<T>): Iterator<T> {\n",
    "  let idx = arrayLike.length;\n",
    "  return {\n",
    "    next() {\n",
    "      if (idx === 0) {\n",
    "        return { value: undefined, done: true };\n",
    "      } else {\n",
    "        return { value: arrayLike[--idx], done: false };\n",
    "      }\n",
    "    }\n",
    "  }\n",
    "};\n",
    "\n",
    "const array = ['A', 'B'];\n",
    "const reversed = reverse(array);\n",
    "console.log(array); // ['A', 'B'] (원본 배열은 그대로)\n",
    "\n",
    "console.log(reversed.next().value, reversed.next().value); // B A"
   ]
  },
  {
   "cell_type": "markdown",
   "id": "2eb18ce1",
   "metadata": {},
   "source": [
    "#### 역순 순회 이터레이터의 장점 (vs 역순 정렬을 활용한 역순 순회)\n",
    "\n",
    "- 역순 정렬 비용이 발생하지 않는다.\n",
    "- 전체 순회를 하지 않을 경우, 연산과 메모리 사용을 최소화할 수 있다.\n",
    "- 원본 배열 보존이 필요한 경우, 원본 배열을 복사하지 않아도 보존할 수 있다."
   ]
  },
  {
   "cell_type": "markdown",
   "id": "ef3103e9",
   "metadata": {},
   "source": [
    "### 1.1.4 지연 평가되는 map 함수"
   ]
  },
  {
   "cell_type": "code",
   "execution_count": null,
   "id": "6ae1a289",
   "metadata": {},
   "outputs": [
    {
     "name": "stdout",
     "output_type": "stream",
     "text": [
      "f e\n"
     ]
    },
    {
     "ename": "",
     "evalue": "",
     "output_type": "error",
     "traceback": [
      "\u001b[1;31mThe Kernel crashed while executing code in the current cell or a previous cell. \n",
      "\u001b[1;31mPlease review the code in the cell(s) to identify a possible cause of the failure. \n",
      "\u001b[1;31mClick <a href='https://aka.ms/vscodeJupyterKernelCrash'>here</a> for more info. \n",
      "\u001b[1;31mView Jupyter <a href='command:jupyter.viewOutput'>log</a> for further details."
     ]
    }
   ],
   "source": [
    "function map<A, B>(transform: (value: A) => B, iterator: Iterator<A>): Iterator<B> {\n",
    "  return {\n",
    "    next(): IteratorResult<B> {\n",
    "      const { value, done } = iterator.next();\n",
    "      return done\n",
    "        ? { value, done }\n",
    "        : { value: transform(value), done };\n",
    "    }\n",
    "  };\n",
    "}\n",
    "\n",
    "const array = ['A', 'B', 'C', 'D', 'E', 'F'];\n",
    "const iterator = map(str => str.toLowerCase(), reverse(array));\n",
    "console.log(iterator.next().value, iterator.next().value);  // f e"
   ]
  },
  {
   "cell_type": "markdown",
   "id": "5e3bb88a",
   "metadata": {},
   "source": [
    "### 1.1.5 멀티패러다임의 교차점: 반복자 패턴과 일급 함수\n",
    "\n",
    "**반복자 패턴**은 지연 평가가 가능한 객체를 생성할 수 있게 해주고 **일급 함수**는 고차 함수를 정의할 수 있게 한다.\n",
    "두 가지를 조합하면 map, filter, take, reduce 등 지연 평가를 활용하거나 지연 평가된 리스트를 다루는 함수를 구현할 수 있다."
   ]
  },
  {
   "cell_type": "markdown",
   "id": "db744284",
   "metadata": {},
   "source": [
    "## 1.2 명령형 프로그래밍으로 이터레이터를 만드는 제너레이터 함수\n",
    "\n",
    "### 1.2.1 제너레이터 기본 문법\n",
    "\n",
    "#### 자연수의 무한 시퀀스를 생성하는 제너레이터 함수"
   ]
  },
  {
   "cell_type": "code",
   "execution_count": null,
   "id": "e834e4ac",
   "metadata": {},
   "outputs": [
    {
     "name": "stdout",
     "output_type": "stream",
     "text": [
      "{ value: 1, done: false }\n",
      "{ value: undefined, done: true }\n",
      "{ value: undefined, done: true }\n"
     ]
    },
    {
     "ename": "",
     "evalue": "",
     "output_type": "error",
     "traceback": [
      "\u001b[1;31mThe Kernel crashed while executing code in the current cell or a previous cell. \n",
      "\u001b[1;31mPlease review the code in the cell(s) to identify a possible cause of the failure. \n",
      "\u001b[1;31mClick <a href='https://aka.ms/vscodeJupyterKernelCrash'>here</a> for more info. \n",
      "\u001b[1;31mView Jupyter <a href='command:jupyter.viewOutput'>log</a> for further details."
     ]
    }
   ],
   "source": [
    "function* naturals() {\n",
    "  let n = 1;\n",
    "  while (true) {\n",
    "    yield n++;\n",
    "  }\n",
    "}\n",
    "\n",
    "const iter = naturals();\n",
    "\n",
    "console.log(iter.next()); // { value: 1, done: false }\n",
    "console.log(iter.next()); // { value: 2, done: false }\n",
    "console.log(iter.next()); // { value: 3, done: false }"
   ]
  },
  {
   "cell_type": "markdown",
   "id": "58ee1236",
   "metadata": {},
   "source": [
    "### 1.2.2 제너레이터로 작성한 reverse 함수"
   ]
  },
  {
   "cell_type": "code",
   "execution_count": null,
   "id": "6a62e424",
   "metadata": {},
   "outputs": [
    {
     "name": "stdout",
     "output_type": "stream",
     "text": [
      "F\n",
      "E\n",
      "D\n"
     ]
    },
    {
     "ename": "",
     "evalue": "",
     "output_type": "error",
     "traceback": [
      "\u001b[1;31mThe Kernel crashed while executing code in the current cell or a previous cell. \n",
      "\u001b[1;31mPlease review the code in the cell(s) to identify a possible cause of the failure. \n",
      "\u001b[1;31mClick <a href='https://aka.ms/vscodeJupyterKernelCrash'>here</a> for more info. \n",
      "\u001b[1;31mView Jupyter <a href='command:jupyter.viewOutput'>log</a> for further details."
     ]
    }
   ],
   "source": [
    "function* reverse<T>(arrayLike: ArrayLike<T>): IterableIterator<T> {\n",
    "  let idx = arrayLike.length;\n",
    "  while (idx) {\n",
    "    yield arrayLike[--idx];\n",
    "  }\n",
    "}\n",
    "\n",
    "const array = ['A', 'B', 'C', 'D', 'E', 'F'];\n",
    "const reversed = reverse(array);\n",
    "\n",
    "console.log(reversed.next().value); // F\n",
    "console.log(reversed.next().value); // E\n",
    "console.log(reversed.next().value); // D"
   ]
  },
  {
   "cell_type": "markdown",
   "id": "aec49913",
   "metadata": {},
   "source": [
    "## 1.3 자바스크립트에서 반복자 패턴 사례: 이터레이션 프로토콜\n",
    "\n",
    "### 1.3.1 이터레이터와 이터러블\n",
    "\n",
    "#### 이터레이터"
   ]
  },
  {
   "cell_type": "code",
   "execution_count": 1,
   "id": "b40550f1",
   "metadata": {},
   "outputs": [
    {
     "name": "stdout",
     "output_type": "stream",
     "text": [
      "1\n",
      "2\n",
      "3\n",
      "true\n"
     ]
    }
   ],
   "source": [
    "function naturals(end = Infinity): Iterator<number> {\n",
    "  let n = 1;\n",
    "  return {\n",
    "    next(): IteratorResult<number> {\n",
    "      return n <= end\n",
    "        ? { value: n++, done: false }\n",
    "        : { value: undefined, done: true };\n",
    "    }\n",
    "  }\n",
    "}\n",
    "\n",
    "const interator = naturals(3);\n",
    "\n",
    "console.log(interator.next().value);  // 1\n",
    "console.log(interator.next().value);  // 2\n",
    "console.log(interator.next().value);  // 3\n",
    "console.log(interator.next().done);   // true"
   ]
  },
  {
   "cell_type": "markdown",
   "id": "48dd2074",
   "metadata": {},
   "source": [
    "#### for....of문으로 순회하려면\n",
    "\n",
    "`[Symbol.iterator]() { return { next() { ... }};}` 메서드를 추가하여 이터러블 객체를 만들 수 있다."
   ]
  },
  {
   "cell_type": "code",
   "execution_count": 3,
   "id": "6102e713",
   "metadata": {},
   "outputs": [
    {
     "name": "stdout",
     "output_type": "stream",
     "text": [
      "1\n",
      "2\n",
      "3\n"
     ]
    }
   ],
   "source": [
    "function naturals(end = Infinity): Iterator<number> {\n",
    "  let n = 1;\n",
    "  return {\n",
    "    next(): IteratorResult<number> {\n",
    "      return n <= end\n",
    "        ? { value: n++, done: false }\n",
    "        : { value: undefined, done: true };\n",
    "    },\n",
    "    [Symbol.iterator]() {\n",
    "      return this;\n",
    "    }\n",
    "  }\n",
    "}\n",
    "\n",
    "const iterator2 = naturals(3);\n",
    "\n",
    "for (const num of iterator2) {\n",
    "  console.log(num);\n",
    "}"
   ]
  },
  {
   "cell_type": "markdown",
   "id": "68dd65fe",
   "metadata": {},
   "source": [
    "#### TypeScript의 `Iterator<T>`, `Iterable<T>`, `IterableIterator<T>` 인터페이스 정의의 핵심 부분"
   ]
  },
  {
   "cell_type": "code",
   "execution_count": null,
   "id": "5a4f3cf8",
   "metadata": {},
   "outputs": [],
   "source": [
    "interface IteratorYieldResult<T> {\n",
    "  done?: false;\n",
    "  value: T;\n",
    "}\n",
    "\n",
    "interface IteratorReturnResult {\n",
    "  done: true;\n",
    "  value: undefined;\n",
    "}\n",
    "\n",
    "interface Iterator<T> {\n",
    "  next(): IteratorYieldResult<T> | IteratorReturnResult;\n",
    "}\n",
    "\n",
    "interface Iterable<T> {\n",
    "  [Symbol.iterator](): Iterator<T>;\n",
    "}\n",
    "\n",
    "interface IterableIterator<T> extends Iterator<T> {\n",
    "  [Symbol.iterator](): IterableIterator<T>;\n",
    "}"
   ]
  },
  {
   "cell_type": "markdown",
   "id": "237afcc5",
   "metadata": {},
   "source": [
    "#### 내장 이터러블\n",
    "\n",
    "Array, Set, Map 등도 모두 이터러블이다."
   ]
  },
  {
   "cell_type": "code",
   "execution_count": null,
   "id": "6ab52960",
   "metadata": {},
   "outputs": [
    {
     "name": "stdout",
     "output_type": "stream",
     "text": [
      "{ value: 1, done: false }\n",
      "{ value: 2, done: false }\n",
      "{ value: 3, done: false }\n",
      "{ value: undefined, done: true }\n",
      "1\n",
      "2\n",
      "3\n"
     ]
    }
   ],
   "source": [
    "const array = [1, 2, 3];\n",
    "const arrayIterator = array[Symbol.iterator]();\n",
    "\n",
    "console.log(arrayIterator.next()); // { value: 1, done: false }\n",
    "console.log(arrayIterator.next()); // { value: 2, done: false }\n",
    "console.log(arrayIterator.next()); // { value: 3, done: false }\n",
    "console.log(arrayIterator.next()); // { value: undefined, done: true }\n",
    "\n",
    "for (const value of array) {\n",
    "  console.log(value);\n",
    "}\n",
    "// 1\n",
    "// 2\n",
    "// 3"
   ]
  },
  {
   "cell_type": "code",
   "execution_count": null,
   "id": "87814dc3",
   "metadata": {},
   "outputs": [],
   "source": [
    "\n",
    "const set = new Set([1, 2, 3]);\n",
    "const setIterator = set[Symbol.iterator]();\n",
    "\n",
    "console.log(setIterator.next()); // { value: 1, done: false }\n",
    "console.log(setIterator.next()); // { value: 2, done: false }\n",
    "console.log(setIterator.next()); // { value: 3, done: false }\n",
    "console.log(setIterator.next()); // { value: undefined, done: true }\n",
    "\n",
    "for (const value of set) {\n",
    "  console.log(value);\n",
    "}\n",
    "// 1\n",
    "// 2\n",
    "// 3"
   ]
  },
  {
   "cell_type": "code",
   "execution_count": null,
   "id": "a7bcdd3d",
   "metadata": {},
   "outputs": [
    {
     "name": "stdout",
     "output_type": "stream",
     "text": [
      "{ value: [ \"a\", 1 ], done: false }\n",
      "{ value: [ \"b\", 2 ], done: false }\n",
      "{ value: [ \"c\", 3 ], done: false }\n",
      "{ value: undefined, done: true }\n",
      "a: 1\n",
      "b: 2\n",
      "c: 3\n",
      "{ value: [ \"a\", 1 ], done: false }\n",
      "{ value: [ \"b\", 2 ], done: false }\n",
      "{ value: [ \"c\", 3 ], done: false }\n",
      "{ value: undefined, done: true }\n",
      "[ \"a\", 1 ]\n",
      "[ \"b\", 2 ]\n",
      "[ \"c\", 3 ]\n",
      "{ value: 1, done: false }\n",
      "2\n",
      "3\n",
      "{ value: \"a\", done: false }\n",
      "b\n",
      "c\n"
     ]
    },
    {
     "ename": "",
     "evalue": "",
     "output_type": "error",
     "traceback": [
      "\u001b[1;31mThe Kernel crashed while executing code in the current cell or a previous cell. \n",
      "\u001b[1;31mPlease review the code in the cell(s) to identify a possible cause of the failure. \n",
      "\u001b[1;31mClick <a href='https://aka.ms/vscodeJupyterKernelCrash'>here</a> for more info. \n",
      "\u001b[1;31mView Jupyter <a href='command:jupyter.viewOutput'>log</a> for further details."
     ]
    }
   ],
   "source": [
    "\n",
    "const map = new Map([['a', 1], ['b', 2], ['c', 3]]);\n",
    "const mapIterator = map[Symbol.iterator]();\n",
    "\n",
    "console.log(mapIterator.next()); // { value: ['a', 1], done: false }\n",
    "console.log(mapIterator.next()); // { value: ['b', 2], done: false }\n",
    "console.log(mapIterator.next()); // { value: ['c', 3], done: false }\n",
    "console.log(mapIterator.next()); // { value: undefined, done: true }\n",
    "\n",
    "for (const [key, value] of map) {\n",
    "  console.log(`${key}: ${value}`);\n",
    "}\n",
    "// a: 1\n",
    "// b: 2\n",
    "// c: 3\n",
    "\n",
    "const mapEntries = map.entries();\n",
    "\n",
    "console.log(mapEntries.next()); // { value: ['a', 1], done: false }\n",
    "console.log(mapEntries.next()); // { value: ['b', 2], done: false }\n",
    "console.log(mapEntries.next()); // { value: ['c', 3], done: false }\n",
    "console.log(mapEntries.next()); // { value: undefined, done: true }\n",
    "\n",
    "for (const entry of map.entries()) {\n",
    "  console.log(entry);\n",
    "}\n",
    "// ['a', 1]\n",
    "// ['b', 2]\n",
    "// ['c', 3]\n",
    "\n",
    "const mapValues = map.values();\n",
    "\n",
    "console.log(mapValues.next()); // { value: 1, done: false }\n",
    "\n",
    "for (const value of mapValues) {\n",
    "  console.log(value);\n",
    "}\n",
    "// 2\n",
    "// 3\n",
    "\n",
    "const mapKeys = map.keys();\n",
    "\n",
    "console.log(mapKeys.next()); // { value: 'a', done: false }\n",
    "\n",
    "for (const key of mapKeys) {\n",
    "  console.log(key);\n",
    "}\n",
    "// b\n",
    "// c\n"
   ]
  },
  {
   "cell_type": "markdown",
   "id": "69a36d8d",
   "metadata": {},
   "source": [
    "### 1.3.2 언어와 이터러블의 상호작용\n",
    "\n",
    "#### 전개 연산자와 이터러블\n",
    "\n",
    "배열이나 객체를 복사하거나 및 병합"
   ]
  },
  {
   "cell_type": "code",
   "execution_count": 2,
   "id": "aeda9a87",
   "metadata": {},
   "outputs": [
    {
     "name": "stdout",
     "output_type": "stream",
     "text": [
      "[ 1, 2, 3, 4, 5, 6 ]\n"
     ]
    }
   ],
   "source": [
    "const array = [1, 2, 3];\n",
    "const array2 = [...array, 4, 5, 6];\n",
    "\n",
    "console.log(array2); // [1, 2, 3, 4, 5, 6]"
   ]
  },
  {
   "cell_type": "markdown",
   "id": "9f4ff218",
   "metadata": {},
   "source": [
    "이터러블 객체를 배열로 변환"
   ]
  },
  {
   "cell_type": "code",
   "execution_count": 3,
   "id": "d66fc2e6",
   "metadata": {},
   "outputs": [
    {
     "name": "stdout",
     "output_type": "stream",
     "text": [
      "[ 1, 2, 3 ]\n"
     ]
    }
   ],
   "source": [
    "const set = new Set([1, 2, 3]);\n",
    "const array = [...set];\n",
    "\n",
    "console.log(array); // [1, 2, 3]"
   ]
  },
  {
   "cell_type": "markdown",
   "id": "8c01409f",
   "metadata": {},
   "source": [
    "함수 호출 시 이터러블 객체의 요소들을 개별 인자로 전달"
   ]
  },
  {
   "cell_type": "code",
   "execution_count": null,
   "id": "3439e5da",
   "metadata": {},
   "outputs": [
    {
     "name": "stdout",
     "output_type": "stream",
     "text": [
      "6\n"
     ]
    },
    {
     "ename": "",
     "evalue": "",
     "output_type": "error",
     "traceback": [
      "\u001b[1;31mThe Kernel crashed while executing code in the current cell or a previous cell. \n",
      "\u001b[1;31mPlease review the code in the cell(s) to identify a possible cause of the failure. \n",
      "\u001b[1;31mClick <a href='https://aka.ms/vscodeJupyterKernelCrash'>here</a> for more info. \n",
      "\u001b[1;31mView Jupyter <a href='command:jupyter.viewOutput'>log</a> for further details."
     ]
    }
   ],
   "source": [
    "const numbers = [1, 2, 3];\n",
    "\n",
    "function sum(...nums: number[]): number {\n",
    "  return nums.reduce((a, b) => a + b, 0);\n",
    "}\n",
    "\n",
    "console.log(sum(...numbers)); // 6"
   ]
  },
  {
   "cell_type": "markdown",
   "id": "7b126832",
   "metadata": {},
   "source": [
    "#### 구조 분해 할당과 이터러블\n",
    "\n",
    "특정 요소 추출"
   ]
  },
  {
   "cell_type": "code",
   "execution_count": null,
   "id": "874b0283",
   "metadata": {},
   "outputs": [],
   "source": [
    "const array = [1, 2, 3, 4];\n",
    "const [first, second] = array;\n",
    "\n",
    "console.log(first);   // 1\n",
    "console.log(second);  // 2\n",
    "\n",
    "const [head, ...tail] = array;\n",
    "\n",
    "console.log(head); // 1\n",
    "console.log(tail); // [2, 3, 4]"
   ]
  },
  {
   "cell_type": "markdown",
   "id": "3f60e79d",
   "metadata": {},
   "source": [
    "Map 객체의 키-값 쌍을 분해 할당"
   ]
  },
  {
   "cell_type": "code",
   "execution_count": null,
   "id": "a3324295",
   "metadata": {},
   "outputs": [
    {
     "name": "stdout",
     "output_type": "stream",
     "text": [
      "a: 1\n",
      "b: 2\n",
      "c: 3\n"
     ]
    },
    {
     "ename": "",
     "evalue": "",
     "output_type": "error",
     "traceback": [
      "\u001b[1;31mThe Kernel crashed while executing code in the current cell or a previous cell. \n",
      "\u001b[1;31mPlease review the code in the cell(s) to identify a possible cause of the failure. \n",
      "\u001b[1;31mClick <a href='https://aka.ms/vscodeJupyterKernelCrash'>here</a> for more info. \n",
      "\u001b[1;31mView Jupyter <a href='command:jupyter.viewOutput'>log</a> for further details."
     ]
    }
   ],
   "source": [
    "const map = new Map();\n",
    "map.set('a', 1);\n",
    "map.set('b', 2);\n",
    "map.set('c', 3);\n",
    "for (const [key, value] of map.entries()) {\n",
    "  console.log(`${key}: ${value}`);\n",
    "}\n",
    "// a: 1\n",
    "// b: 2\n",
    "// c: 3"
   ]
  },
  {
   "cell_type": "markdown",
   "id": "92f6bee6",
   "metadata": {},
   "source": [
    "#### 사용자 정의 이터러블과 전개 연산자"
   ]
  },
  {
   "cell_type": "code",
   "execution_count": null,
   "id": "8b93c51c",
   "metadata": {},
   "outputs": [
    {
     "name": "stdout",
     "output_type": "stream",
     "text": [
      "[ 0, 1, 2, 3 ]\n"
     ]
    },
    {
     "ename": "",
     "evalue": "",
     "output_type": "error",
     "traceback": [
      "\u001b[1;31mThe Kernel crashed while executing code in the current cell or a previous cell. \n",
      "\u001b[1;31mPlease review the code in the cell(s) to identify a possible cause of the failure. \n",
      "\u001b[1;31mClick <a href='https://aka.ms/vscodeJupyterKernelCrash'>here</a> for more info. \n",
      "\u001b[1;31mView Jupyter <a href='command:jupyter.viewOutput'>log</a> for further details."
     ]
    }
   ],
   "source": [
    "function naturals(end = Infinity): Iterator<number> {\n",
    "  let n = 1;\n",
    "  return {\n",
    "    next(): IteratorResult<number> {\n",
    "      return n <= end\n",
    "        ? { value: n++, done: false }\n",
    "        : { value: undefined, done: true };\n",
    "    },\n",
    "    [Symbol.iterator]() {\n",
    "      return this;\n",
    "    }\n",
    "  }\n",
    "}\n",
    "\n",
    "const array = [0, ...naturals(3)];\n",
    "console.log(array); // [0, 1, 2, 3];"
   ]
  },
  {
   "cell_type": "markdown",
   "id": "70d468bb",
   "metadata": {},
   "source": [
    "### 1.3.3 제너레이터로 만든 이터레이터도 이터러블\n",
    "\n",
    "#### 제너레이터로 만든 map 함수"
   ]
  },
  {
   "cell_type": "code",
   "execution_count": null,
   "id": "a704fdee",
   "metadata": {},
   "outputs": [
    {
     "name": "stdout",
     "output_type": "stream",
     "text": [
      "2\n",
      "4\n",
      "[ 6, 8 ]\n"
     ]
    },
    {
     "ename": "ReferenceError",
     "evalue": "naturals is not defined",
     "output_type": "error",
     "traceback": [
      "Stack trace:",
      "ReferenceError: naturals is not defined",
      "    at <anonymous>:20:19"
     ]
    }
   ],
   "source": [
    "function* map<A, B>(\n",
    "  f: (value: A) => B, iterable: Iterable<A>\n",
    "): IterableIterator<B> {\n",
    "  for (const value of iterable) {\n",
    "    yield f(value);\n",
    "  }\n",
    "}\n",
    "\n",
    "const array = [1, 2, 3, 4];\n",
    "const mapped: IterableIterator<number> = map(x => x * 2, array);\n",
    "const iterator = mapped[Symbol.iterator]();\n",
    "\n",
    "console.log(mapped.next().value); // 2\n",
    "console.log(iterator.next().value); // 4\n",
    "console.log(([...iterator])); // [6, 8]\n",
    "\n"
   ]
  },
  {
   "cell_type": "markdown",
   "id": "6504dbc4",
   "metadata": {},
   "source": [
    "#### 제너레이터로 만든 이터레이터와 for...of문"
   ]
  },
  {
   "cell_type": "code",
   "execution_count": null,
   "id": "c83a7b66",
   "metadata": {},
   "outputs": [
    {
     "name": "stdout",
     "output_type": "stream",
     "text": [
      "20\n"
     ]
    },
    {
     "ename": "",
     "evalue": "",
     "output_type": "error",
     "traceback": [
      "\u001b[1;31mThe Kernel crashed while executing code in the current cell or a previous cell. \n",
      "\u001b[1;31mPlease review the code in the cell(s) to identify a possible cause of the failure. \n",
      "\u001b[1;31mClick <a href='https://aka.ms/vscodeJupyterKernelCrash'>here</a> for more info. \n",
      "\u001b[1;31mView Jupyter <a href='command:jupyter.viewOutput'>log</a> for further details."
     ]
    }
   ],
   "source": [
    "function* map<A, B>(\n",
    "  f: (value: A) => B, iterable: Iterable<A>\n",
    "): IterableIterator<B> {\n",
    "  for (const value of iterable) {\n",
    "    yield f(value);\n",
    "  }\n",
    "}\n",
    "\n",
    "function naturals(end = Infinity): Iterator<number> {\n",
    "  let n = 1;\n",
    "  return {\n",
    "    next(): IteratorResult<number> {\n",
    "      return n <= end\n",
    "        ? { value: n++, done: false }\n",
    "        : { value: undefined, done: true };\n",
    "    },\n",
    "    [Symbol.iterator]() {\n",
    "      return this;\n",
    "    }\n",
    "  }\n",
    "}\n",
    "\n",
    "let acc = 0;\n",
    "for (const num of map((x) => x * 2, naturals(4))) {\n",
    "  acc += num;\n",
    "}\n",
    "console.log(acc); // 20"
   ]
  },
  {
   "cell_type": "markdown",
   "id": "5eb43cd0",
   "metadata": {},
   "source": [
    "위 코드에서 map 함수에 배열이 아닌 지연 평가되는 이터레이터를 전달하여 실행 과정에서 배열을 만들지 않고도 acc에 모든 값을 더할 수 있다."
   ]
  },
  {
   "cell_type": "markdown",
   "id": "b8bfb29b",
   "metadata": {},
   "source": [
    "## 1.4 이터러블을 다루는 함수형 프로그래밍\n",
    "\n",
    "### 1.4.1. forEach 함수"
   ]
  },
  {
   "cell_type": "code",
   "execution_count": 5,
   "id": "ebc55677",
   "metadata": {},
   "outputs": [
    {
     "name": "stdout",
     "output_type": "stream",
     "text": [
      "1\n",
      "2\n",
      "3\n"
     ]
    }
   ],
   "source": [
    "function forEach(f, iterable) {\n",
    "  for (const value of iterable) {\n",
    "    f(value);\n",
    "  }\n",
    "}\n",
    "\n",
    "const array = [1, 2, 3];\n",
    "forEach(console.log, array);\n",
    "// 1\n",
    "// 2\n",
    "// 3"
   ]
  }
 ],
 "metadata": {
  "kernelspec": {
   "display_name": "Deno",
   "language": "typescript",
   "name": "deno"
  },
  "language_info": {
   "codemirror_mode": "typescript",
   "file_extension": ".ts",
   "mimetype": "text/x.typescript",
   "name": "typescript",
   "nbconvert_exporter": "script",
   "pygments_lexer": "typescript",
   "version": "5.8.3"
  }
 },
 "nbformat": 4,
 "nbformat_minor": 5
}
